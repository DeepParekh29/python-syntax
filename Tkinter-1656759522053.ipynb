{
 "cells": [
  {
   "cell_type": "code",
   "execution_count": 1,
   "id": "32fda739",
   "metadata": {},
   "outputs": [],
   "source": [
    "# Import Tkinter\n",
    "\n",
    "from tkinter import *\n",
    "\n",
    "# Creating a Main Window\n",
    "r = Tk()\n",
    "\n",
    "# MainLoop Method Called\n",
    "mainloop()"
   ]
  },
  {
   "cell_type": "markdown",
   "id": "ea715b2b",
   "metadata": {},
   "source": [
    "# Creating Customize Window"
   ]
  },
  {
   "cell_type": "code",
   "execution_count": 2,
   "id": "dfd0a2b8",
   "metadata": {},
   "outputs": [],
   "source": [
    "# Import Tkinter\n",
    "from tkinter import *\n",
    "\n",
    "# Creating Main Window\n",
    "r = Tk()\n",
    "r.geometry(\"400x400\")\n",
    "r.title(\"My Title\")\n",
    "r.configure(bg=\"Orange\")\n",
    "\n",
    "\n",
    "mainloop()"
   ]
  },
  {
   "cell_type": "markdown",
   "id": "317bbb2a",
   "metadata": {},
   "source": [
    "# Adding Widgets into Window"
   ]
  },
  {
   "cell_type": "code",
   "execution_count": 3,
   "id": "750187b3",
   "metadata": {},
   "outputs": [],
   "source": [
    "# Import Tkinter\n",
    "from tkinter import *\n",
    "\n",
    "# Creating Main Window\n",
    "r = Tk()\n",
    "r.geometry(\"400x400\")\n",
    "r.title(\"My Title\")\n",
    "r.configure(bg=\"Orange\")\n",
    "\n",
    "\n",
    "\n",
    "# Adding Labels in Main Window\n",
    "rn = Label(r,text=\"Roll No\")\n",
    "rn.place(x=20,y=20)\n",
    "\n",
    "fn = Label(r,text=\"Firstname\")\n",
    "fn.place(x=20,y=60)\n",
    "\n",
    "ln = Label(r,text=\"Lastname\")\n",
    "ln.place(x=20,y=100)\n",
    "\n",
    "em = Label(r,text=\"Email\")\n",
    "em.place(x=20,y=140)\n",
    "\n",
    "\n",
    "\n",
    "# Adding Entry box into Main Window\n",
    "ern = Entry()\n",
    "ern.place(x=100,y=20)\n",
    "\n",
    "efn = Entry()\n",
    "efn.place(x=100,y=60)\n",
    "\n",
    "eln = Entry()\n",
    "eln.place(x=100,y=100)\n",
    "\n",
    "eem = Entry()\n",
    "eem.place(x=100,y=140)\n",
    "\n",
    "\n",
    "# Adding Buttons into Main Window\n",
    "button1 = Button(r,text=\"Button1\",bg=\"White\")\n",
    "button1.place(x=20,y=200)\n",
    "mainloop()"
   ]
  },
  {
   "cell_type": "code",
   "execution_count": null,
   "id": "b5dd3ebb",
   "metadata": {},
   "outputs": [],
   "source": []
  }
 ],
 "metadata": {
  "interpreter": {
   "hash": "bc96575b8bd8d426cdc22c3d54113cf54c39ff7c1f30dce2b3d12c745b60781d"
  },
  "kernelspec": {
   "display_name": "Python 3 (ipykernel)",
   "language": "python",
   "name": "python3"
  },
  "language_info": {
   "codemirror_mode": {
    "name": "ipython",
    "version": 3
   },
   "file_extension": ".py",
   "mimetype": "text/x-python",
   "name": "python",
   "nbconvert_exporter": "python",
   "pygments_lexer": "ipython3",
   "version": "3.10.5"
  }
 },
 "nbformat": 4,
 "nbformat_minor": 5
}
