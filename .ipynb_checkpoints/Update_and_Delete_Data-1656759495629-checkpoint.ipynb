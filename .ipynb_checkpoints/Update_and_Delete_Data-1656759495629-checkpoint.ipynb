{
 "cells": [
  {
   "cell_type": "code",
   "execution_count": 1,
   "id": "13f4e34d",
   "metadata": {},
   "outputs": [],
   "source": [
    "# Import Database API\n",
    "import pymysql\n",
    "\n",
    "# Database connection function\n",
    "def CreateConn():\n",
    "    return pymysql.connect(host=\"localhost\",database=\"learnvern\",\n",
    "                          user=\"root\",password=\"\",port=3306)"
   ]
  },
  {
   "cell_type": "markdown",
   "id": "e3ecce21",
   "metadata": {},
   "source": [
    "# Fetch All Data from Database"
   ]
  },
  {
   "cell_type": "code",
   "execution_count": 2,
   "id": "b981138b",
   "metadata": {},
   "outputs": [
    {
     "name": "stdout",
     "output_type": "stream",
     "text": [
      "(1, 'Deep', 'deep@gmail.com', 'ahmedabad')\n",
      "(2, 'dev', 'dev@gmail.com', 'anand')\n"
     ]
    }
   ],
   "source": [
    "def ShowAllData():\n",
    "    conn = CreateConn()\n",
    "    cursor = conn.cursor()\n",
    "    query = \"select * from student\"\n",
    "    cursor.execute(query)\n",
    "    result = cursor.fetchall()\n",
    "    for i in result:\n",
    "        print(i)\n",
    "        \n",
    "ShowAllData()"
   ]
  },
  {
   "cell_type": "markdown",
   "id": "b457d7f2",
   "metadata": {},
   "source": [
    "# Update data into database"
   ]
  },
  {
   "cell_type": "code",
   "execution_count": 3,
   "id": "1e32270e",
   "metadata": {},
   "outputs": [
    {
     "name": "stdout",
     "output_type": "stream",
     "text": [
      "(1, 'Deep', 'deep@gmail.com', 'ahmedabad')\n",
      "(2, 'dev', 'dev@gmail.com', 'anand')\n",
      "Enter your id : 1\n",
      "Enter your Name : don\n",
      "Enter your Email : d123@gmail.com\n",
      "Enter your City : uk\n",
      "Data Updated\n",
      "(1, 'don', 'd123@gmail.com', 'uk')\n",
      "(2, 'dev', 'dev@gmail.com', 'anand')\n"
     ]
    }
   ],
   "source": [
    "def UpdateData(name,email,city,sid):\n",
    "    conn = CreateConn()\n",
    "    cursor = conn.cursor()\n",
    "    args = (name,email,city,sid)\n",
    "    query = \"update student set name=%s,email=%s,city=%s where sid=%s\"\n",
    "    cursor.execute(query,args)\n",
    "    conn.commit()\n",
    "    print(\"Data Updated\")\n",
    "    conn.close()\n",
    "    \n",
    "ShowAllData() # Show All Data from database\n",
    "\n",
    "sid = int(input(\"Enter your id : \"))\n",
    "n = input(\"Enter your Name : \")\n",
    "e = input(\"Enter your Email : \")\n",
    "c = input(\"Enter your City : \")\n",
    "\n",
    "UpdateData(n,e,c,sid) # For updating \n",
    "\n",
    "\n",
    "ShowAllData() # For Showing updated data"
   ]
  },
  {
   "cell_type": "markdown",
   "id": "43354a9e",
   "metadata": {},
   "source": [
    "# Delete Data from Database"
   ]
  },
  {
   "cell_type": "code",
   "execution_count": 4,
   "id": "98a55013",
   "metadata": {},
   "outputs": [
    {
     "name": "stdout",
     "output_type": "stream",
     "text": [
      "(1, 'don', 'd123@gmail.com', 'uk')\n",
      "(2, 'dev', 'dev@gmail.com', 'anand')\n",
      "Enter your Id : 2\n",
      "Data Deleted\n",
      "(1, 'don', 'd123@gmail.com', 'uk')\n"
     ]
    }
   ],
   "source": [
    "def DeleteData(sid):\n",
    "    conn = CreateConn()\n",
    "    cursor = conn.cursor()\n",
    "    args = (sid)\n",
    "    query = \"delete from student where sid=%s\"\n",
    "    cursor.execute(query,args)\n",
    "    conn.commit()\n",
    "    print(\"Data Deleted\")\n",
    "    conn.close()\n",
    "    \n",
    "ShowAllData()\n",
    "\n",
    "sid = int(input(\"Enter your Id : \"))\n",
    "\n",
    "# Calling delete method\n",
    "DeleteData(sid)\n",
    "\n",
    "ShowAllData()\n"
   ]
  },
  {
   "cell_type": "code",
   "execution_count": null,
   "id": "7bfd2c0b",
   "metadata": {},
   "outputs": [],
   "source": []
  }
 ],
 "metadata": {
  "kernelspec": {
   "display_name": "Python 3 (ipykernel)",
   "language": "python",
   "name": "python3"
  },
  "language_info": {
   "codemirror_mode": {
    "name": "ipython",
    "version": 3
   },
   "file_extension": ".py",
   "mimetype": "text/x-python",
   "name": "python",
   "nbconvert_exporter": "python",
   "pygments_lexer": "ipython3",
   "version": "3.10.5"
  }
 },
 "nbformat": 4,
 "nbformat_minor": 5
}
