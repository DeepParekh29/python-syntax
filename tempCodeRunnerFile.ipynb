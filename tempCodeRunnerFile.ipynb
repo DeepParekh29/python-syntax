from tkinter import *

# Creating Main Window
r = Tk()
r.geometry("400x400")
r.title("My Title")
r.configure(bg="Orange")



# Adding Labels in Main Window
rn = Label(r,text="Roll No")
rn.place(x=20,y=20)

fn = Label(r,text="Firstname")
fn.place(x=20,y=60)
