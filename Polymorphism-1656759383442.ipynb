{
 "cells": [
  {
   "cell_type": "markdown",
   "id": "97fec90b",
   "metadata": {},
   "source": [
    "# Method Overloading"
   ]
  },
  {
   "cell_type": "code",
   "execution_count": 1,
   "id": "94148c98",
   "metadata": {},
   "outputs": [
    {
     "name": "stdout",
     "output_type": "stream",
     "text": [
      "Function with 2 arguments\n"
     ]
    }
   ],
   "source": [
    "class MO:\n",
    "    def myFunction(self): # No arguments\n",
    "        print(\"Function with no arguments\")\n",
    "        \n",
    "    def myFunction(self,a): # 1 arguments\n",
    "        print(\"Function with 1 argument\")\n",
    "        \n",
    "    def myFunction(self,a,b): # 2 arguments\n",
    "        print(\"Function with 2 arguments\")\n",
    "\n",
    "# Creating an object of Class MO\n",
    "m = MO()\n",
    "m.myFunction(10,20)\n",
    "\n",
    "# Note : Method Overloading is not supported in python because python is a interperted \n",
    "# Language"
   ]
  },
  {
   "cell_type": "markdown",
   "id": "3f0eab09",
   "metadata": {},
   "source": [
    "# Method Overriding"
   ]
  },
  {
   "cell_type": "code",
   "execution_count": 8,
   "id": "201ca381",
   "metadata": {},
   "outputs": [
    {
     "name": "stdout",
     "output_type": "stream",
     "text": [
      "Class MO3 function called\n",
      "Class MO2 function called\n",
      "Class MO1 function Called\n"
     ]
    }
   ],
   "source": [
    "class MO1: # Parent Class\n",
    "    def myFunction(self,a):\n",
    "        print(\"Class MO1 function Called\")\n",
    "        \n",
    "class MO2(MO1): # Child Class\n",
    "    def myFunction(self,a):\n",
    "        print(\"Class MO2 function called\")\n",
    "        # Super method calling the method of class MO1\n",
    "        super().myFunction(10)\n",
    "        \n",
    "class MO3(MO2): # Child Class\n",
    "    def myFunction(self,a):\n",
    "        print(\"Class MO3 function called\")\n",
    "        # Super method calling the method of class MO2\n",
    "        super().myFunction(10)\n",
    "        \n",
    "# Creating an object of class MO3\n",
    "\n",
    "m = MO3() # Object of MO3\n",
    "m.myFunction(10)"
   ]
  }
 ],
 "metadata": {
  "kernelspec": {
   "display_name": "Python 3 (ipykernel)",
   "language": "python",
   "name": "python3"
  },
  "language_info": {
   "codemirror_mode": {
    "name": "ipython",
    "version": 3
   },
   "file_extension": ".py",
   "mimetype": "text/x-python",
   "name": "python",
   "nbconvert_exporter": "python",
   "pygments_lexer": "ipython3",
   "version": "3.10.5"
  }
 },
 "nbformat": 4,
 "nbformat_minor": 5
}
