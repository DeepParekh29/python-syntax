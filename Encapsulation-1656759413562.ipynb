{
 "cells": [
  {
   "cell_type": "markdown",
   "id": "dc10ebad",
   "metadata": {},
   "source": [
    "# Achieveing Encapsulation by private"
   ]
  },
  {
   "cell_type": "code",
   "execution_count": 1,
   "id": "9da92b15",
   "metadata": {},
   "outputs": [
    {
     "ename": "AttributeError",
     "evalue": "'B' object has no attribute '_B__a'",
     "output_type": "error",
     "traceback": [
      "\u001b[1;31m---------------------------------------------------------------------------\u001b[0m",
      "\u001b[1;31mAttributeError\u001b[0m                            Traceback (most recent call last)",
      "Input \u001b[1;32mIn [1]\u001b[0m, in \u001b[0;36m<cell line: 19>\u001b[1;34m()\u001b[0m\n\u001b[0;32m     16\u001b[0m \u001b[38;5;66;03m# creating an object of class B\u001b[39;00m\n\u001b[0;32m     18\u001b[0m obj \u001b[38;5;241m=\u001b[39m B(\u001b[38;5;241m20\u001b[39m)\n\u001b[1;32m---> 19\u001b[0m \u001b[43mobj\u001b[49m\u001b[38;5;241;43m.\u001b[39;49m\u001b[43mshowB\u001b[49m\u001b[43m(\u001b[49m\u001b[43m)\u001b[49m\n",
      "Input \u001b[1;32mIn [1]\u001b[0m, in \u001b[0;36mB.showB\u001b[1;34m(self)\u001b[0m\n\u001b[0;32m     13\u001b[0m \u001b[38;5;28;01mdef\u001b[39;00m \u001b[38;5;21mshowB\u001b[39m(\u001b[38;5;28mself\u001b[39m):\n\u001b[1;32m---> 14\u001b[0m     \u001b[38;5;28mprint\u001b[39m(\u001b[38;5;28;43mself\u001b[39;49m\u001b[38;5;241;43m.\u001b[39;49m\u001b[43m__a\u001b[49m)\n",
      "\u001b[1;31mAttributeError\u001b[0m: 'B' object has no attribute '_B__a'"
     ]
    }
   ],
   "source": [
    "class A: # Parent Class\n",
    "    def __init__(self,a):\n",
    "        self.__a=a # the variable is a private variable\n",
    "        \n",
    "    def show(self):\n",
    "        # Printing a private using function\n",
    "        print(\"Private Variable : \",self._a)\n",
    "        \n",
    "class B(A): # Child Class\n",
    "    def __init__(self,b):\n",
    "        super().__init__(b)\n",
    "        \n",
    "    def showB(self):\n",
    "        print(self.__a)\n",
    "        \n",
    "# creating an object of class B\n",
    "\n",
    "obj = B(20)\n",
    "obj.showB()"
   ]
  },
  {
   "cell_type": "markdown",
   "id": "afc54290",
   "metadata": {},
   "source": [
    "# Achieveing Encapsulation by Protected"
   ]
  },
  {
   "cell_type": "code",
   "execution_count": 2,
   "id": "43e2c47c",
   "metadata": {},
   "outputs": [
    {
     "name": "stdout",
     "output_type": "stream",
     "text": [
      "Variable Value :  30\n"
     ]
    }
   ],
   "source": [
    "class A: # Parent Class\n",
    "    def __init__(self,a):\n",
    "        self._a=a # this variable a is a protected variable\n",
    "        \n",
    "    def show(self):\n",
    "        print(\"Protected Variable : \",self._a)\n",
    "        \n",
    "        \n",
    "class B(A): # Child Class\n",
    "    def __init__(self,b):\n",
    "        super().__init__(b)\n",
    "        \n",
    "    def showB(self):\n",
    "        print(\"Variable Value : \",self._a)\n",
    "        \n",
    "        \n",
    "# Creating an object of class B\n",
    "\n",
    "obj = B(30)\n",
    "obj.showB()"
   ]
  },
  {
   "cell_type": "code",
   "execution_count": null,
   "id": "0e20e6b5",
   "metadata": {},
   "outputs": [],
   "source": []
  }
 ],
 "metadata": {
  "kernelspec": {
   "display_name": "Python 3 (ipykernel)",
   "language": "python",
   "name": "python3"
  },
  "language_info": {
   "codemirror_mode": {
    "name": "ipython",
    "version": 3
   },
   "file_extension": ".py",
   "mimetype": "text/x-python",
   "name": "python",
   "nbconvert_exporter": "python",
   "pygments_lexer": "ipython3",
   "version": "3.10.5"
  }
 },
 "nbformat": 4,
 "nbformat_minor": 5
}
